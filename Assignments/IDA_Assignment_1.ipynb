{
  "nbformat": 4,
  "nbformat_minor": 0,
  "metadata": {
    "colab": {
      "name": "IDA-Assignment-1.ipynb",
      "provenance": []
    },
    "kernelspec": {
      "name": "python3",
      "display_name": "Python 3"
    },
    "language_info": {
      "name": "python"
    }
  },
  "cells": [
    {
      "cell_type": "markdown",
      "metadata": {
        "id": "3pC0ijoAv2o0"
      },
      "source": [
        "Assumptions based on details provided: https://stat.ethz.ch/R-manual/R-devel/library/datasets/html/mtcars.html\n",
        "\n",
        "This link was used to make assumptions for Question 6 where intuitive understanding implied that am = 1 corresponds to automatic cars and am = 0 corresponds to manual cars. However since the MTCars dataset has a lot of online resources available, I used the details that have been provided in the above link for any assumptions required in the assignment. "
      ]
    },
    {
      "cell_type": "markdown",
      "metadata": {
        "id": "hvm9wAKGUQoX"
      },
      "source": [
        "###Set 1: Dataset - mtcars"
      ]
    },
    {
      "cell_type": "code",
      "metadata": {
        "colab": {
          "base_uri": "https://localhost:8080/"
        },
        "id": "XcOg13tQi9ir",
        "outputId": "f17501fa-aabd-403b-f2f7-54927562c0d9"
      },
      "source": [
        "#loading mtcars dataset\n",
        "import statsmodels.api as sm\n",
        "mtcars = sm.datasets.get_rdataset('mtcars')"
      ],
      "execution_count": 1,
      "outputs": [
        {
          "output_type": "stream",
          "text": [
            "/usr/local/lib/python3.7/dist-packages/statsmodels/tools/_testing.py:19: FutureWarning: pandas.util.testing is deprecated. Use the functions in the public API at pandas.testing instead.\n",
            "  import pandas.util.testing as tm\n"
          ],
          "name": "stderr"
        }
      ]
    },
    {
      "cell_type": "code",
      "metadata": {
        "id": "cBwjkdW5jT2R"
      },
      "source": [
        "df = mtcars.data"
      ],
      "execution_count": 2,
      "outputs": []
    },
    {
      "cell_type": "code",
      "metadata": {
        "id": "ConHE9VFsWaz"
      },
      "source": [
        "#importing necessary libraries \n",
        "import numpy\n",
        "from numpy import percentile\n",
        "import pandas as pd\n",
        "import matplotlib.pyplot as plt"
      ],
      "execution_count": 3,
      "outputs": []
    },
    {
      "cell_type": "code",
      "metadata": {
        "id": "ZRZAzHhgj4an"
      },
      "source": [
        "#resetting index value to access car name column\n",
        "df = df.reset_index()"
      ],
      "execution_count": 4,
      "outputs": []
    },
    {
      "cell_type": "code",
      "metadata": {
        "id": "qLWqUXvtlMAH"
      },
      "source": [
        "df = df.rename(columns={\"index\":\"car\"})"
      ],
      "execution_count": 5,
      "outputs": []
    },
    {
      "cell_type": "code",
      "metadata": {
        "colab": {
          "base_uri": "https://localhost:8080/"
        },
        "id": "NkrT74SAn6cI",
        "outputId": "36767fc2-d780-42a4-dcbe-cc618d01041e"
      },
      "source": [
        "#printing information about the dataframe\n",
        "df.info()"
      ],
      "execution_count": 6,
      "outputs": [
        {
          "output_type": "stream",
          "text": [
            "<class 'pandas.core.frame.DataFrame'>\n",
            "RangeIndex: 32 entries, 0 to 31\n",
            "Data columns (total 12 columns):\n",
            " #   Column  Non-Null Count  Dtype  \n",
            "---  ------  --------------  -----  \n",
            " 0   car     32 non-null     object \n",
            " 1   mpg     32 non-null     float64\n",
            " 2   cyl     32 non-null     int64  \n",
            " 3   disp    32 non-null     float64\n",
            " 4   hp      32 non-null     int64  \n",
            " 5   drat    32 non-null     float64\n",
            " 6   wt      32 non-null     float64\n",
            " 7   qsec    32 non-null     float64\n",
            " 8   vs      32 non-null     int64  \n",
            " 9   am      32 non-null     int64  \n",
            " 10  gear    32 non-null     int64  \n",
            " 11  carb    32 non-null     int64  \n",
            "dtypes: float64(5), int64(6), object(1)\n",
            "memory usage: 3.1+ KB\n"
          ],
          "name": "stdout"
        }
      ]
    },
    {
      "cell_type": "code",
      "metadata": {
        "colab": {
          "base_uri": "https://localhost:8080/",
          "height": 195
        },
        "id": "TH9cTIwMw0FQ",
        "outputId": "24afbd43-b22a-49f5-9517-9a1d1d0ffd0e"
      },
      "source": [
        "df.head(n=5)"
      ],
      "execution_count": 7,
      "outputs": [
        {
          "output_type": "execute_result",
          "data": {
            "text/html": [
              "<div>\n",
              "<style scoped>\n",
              "    .dataframe tbody tr th:only-of-type {\n",
              "        vertical-align: middle;\n",
              "    }\n",
              "\n",
              "    .dataframe tbody tr th {\n",
              "        vertical-align: top;\n",
              "    }\n",
              "\n",
              "    .dataframe thead th {\n",
              "        text-align: right;\n",
              "    }\n",
              "</style>\n",
              "<table border=\"1\" class=\"dataframe\">\n",
              "  <thead>\n",
              "    <tr style=\"text-align: right;\">\n",
              "      <th></th>\n",
              "      <th>car</th>\n",
              "      <th>mpg</th>\n",
              "      <th>cyl</th>\n",
              "      <th>disp</th>\n",
              "      <th>hp</th>\n",
              "      <th>drat</th>\n",
              "      <th>wt</th>\n",
              "      <th>qsec</th>\n",
              "      <th>vs</th>\n",
              "      <th>am</th>\n",
              "      <th>gear</th>\n",
              "      <th>carb</th>\n",
              "    </tr>\n",
              "  </thead>\n",
              "  <tbody>\n",
              "    <tr>\n",
              "      <th>0</th>\n",
              "      <td>Mazda RX4</td>\n",
              "      <td>21.0</td>\n",
              "      <td>6</td>\n",
              "      <td>160.0</td>\n",
              "      <td>110</td>\n",
              "      <td>3.90</td>\n",
              "      <td>2.620</td>\n",
              "      <td>16.46</td>\n",
              "      <td>0</td>\n",
              "      <td>1</td>\n",
              "      <td>4</td>\n",
              "      <td>4</td>\n",
              "    </tr>\n",
              "    <tr>\n",
              "      <th>1</th>\n",
              "      <td>Mazda RX4 Wag</td>\n",
              "      <td>21.0</td>\n",
              "      <td>6</td>\n",
              "      <td>160.0</td>\n",
              "      <td>110</td>\n",
              "      <td>3.90</td>\n",
              "      <td>2.875</td>\n",
              "      <td>17.02</td>\n",
              "      <td>0</td>\n",
              "      <td>1</td>\n",
              "      <td>4</td>\n",
              "      <td>4</td>\n",
              "    </tr>\n",
              "    <tr>\n",
              "      <th>2</th>\n",
              "      <td>Datsun 710</td>\n",
              "      <td>22.8</td>\n",
              "      <td>4</td>\n",
              "      <td>108.0</td>\n",
              "      <td>93</td>\n",
              "      <td>3.85</td>\n",
              "      <td>2.320</td>\n",
              "      <td>18.61</td>\n",
              "      <td>1</td>\n",
              "      <td>1</td>\n",
              "      <td>4</td>\n",
              "      <td>1</td>\n",
              "    </tr>\n",
              "    <tr>\n",
              "      <th>3</th>\n",
              "      <td>Hornet 4 Drive</td>\n",
              "      <td>21.4</td>\n",
              "      <td>6</td>\n",
              "      <td>258.0</td>\n",
              "      <td>110</td>\n",
              "      <td>3.08</td>\n",
              "      <td>3.215</td>\n",
              "      <td>19.44</td>\n",
              "      <td>1</td>\n",
              "      <td>0</td>\n",
              "      <td>3</td>\n",
              "      <td>1</td>\n",
              "    </tr>\n",
              "    <tr>\n",
              "      <th>4</th>\n",
              "      <td>Hornet Sportabout</td>\n",
              "      <td>18.7</td>\n",
              "      <td>8</td>\n",
              "      <td>360.0</td>\n",
              "      <td>175</td>\n",
              "      <td>3.15</td>\n",
              "      <td>3.440</td>\n",
              "      <td>17.02</td>\n",
              "      <td>0</td>\n",
              "      <td>0</td>\n",
              "      <td>3</td>\n",
              "      <td>2</td>\n",
              "    </tr>\n",
              "  </tbody>\n",
              "</table>\n",
              "</div>"
            ],
            "text/plain": [
              "                 car   mpg  cyl   disp   hp  ...   qsec  vs  am  gear  carb\n",
              "0          Mazda RX4  21.0    6  160.0  110  ...  16.46   0   1     4     4\n",
              "1      Mazda RX4 Wag  21.0    6  160.0  110  ...  17.02   0   1     4     4\n",
              "2         Datsun 710  22.8    4  108.0   93  ...  18.61   1   1     4     1\n",
              "3     Hornet 4 Drive  21.4    6  258.0  110  ...  19.44   1   0     3     1\n",
              "4  Hornet Sportabout  18.7    8  360.0  175  ...  17.02   0   0     3     2\n",
              "\n",
              "[5 rows x 12 columns]"
            ]
          },
          "metadata": {
            "tags": []
          },
          "execution_count": 7
        }
      ]
    },
    {
      "cell_type": "code",
      "metadata": {
        "colab": {
          "base_uri": "https://localhost:8080/",
          "height": 195
        },
        "id": "GNjEwikqw4hr",
        "outputId": "51221423-afbf-4ec4-8aef-129459a82600"
      },
      "source": [
        "df.tail(n=5)"
      ],
      "execution_count": 8,
      "outputs": [
        {
          "output_type": "execute_result",
          "data": {
            "text/html": [
              "<div>\n",
              "<style scoped>\n",
              "    .dataframe tbody tr th:only-of-type {\n",
              "        vertical-align: middle;\n",
              "    }\n",
              "\n",
              "    .dataframe tbody tr th {\n",
              "        vertical-align: top;\n",
              "    }\n",
              "\n",
              "    .dataframe thead th {\n",
              "        text-align: right;\n",
              "    }\n",
              "</style>\n",
              "<table border=\"1\" class=\"dataframe\">\n",
              "  <thead>\n",
              "    <tr style=\"text-align: right;\">\n",
              "      <th></th>\n",
              "      <th>car</th>\n",
              "      <th>mpg</th>\n",
              "      <th>cyl</th>\n",
              "      <th>disp</th>\n",
              "      <th>hp</th>\n",
              "      <th>drat</th>\n",
              "      <th>wt</th>\n",
              "      <th>qsec</th>\n",
              "      <th>vs</th>\n",
              "      <th>am</th>\n",
              "      <th>gear</th>\n",
              "      <th>carb</th>\n",
              "    </tr>\n",
              "  </thead>\n",
              "  <tbody>\n",
              "    <tr>\n",
              "      <th>27</th>\n",
              "      <td>Lotus Europa</td>\n",
              "      <td>30.4</td>\n",
              "      <td>4</td>\n",
              "      <td>95.1</td>\n",
              "      <td>113</td>\n",
              "      <td>3.77</td>\n",
              "      <td>1.513</td>\n",
              "      <td>16.9</td>\n",
              "      <td>1</td>\n",
              "      <td>1</td>\n",
              "      <td>5</td>\n",
              "      <td>2</td>\n",
              "    </tr>\n",
              "    <tr>\n",
              "      <th>28</th>\n",
              "      <td>Ford Pantera L</td>\n",
              "      <td>15.8</td>\n",
              "      <td>8</td>\n",
              "      <td>351.0</td>\n",
              "      <td>264</td>\n",
              "      <td>4.22</td>\n",
              "      <td>3.170</td>\n",
              "      <td>14.5</td>\n",
              "      <td>0</td>\n",
              "      <td>1</td>\n",
              "      <td>5</td>\n",
              "      <td>4</td>\n",
              "    </tr>\n",
              "    <tr>\n",
              "      <th>29</th>\n",
              "      <td>Ferrari Dino</td>\n",
              "      <td>19.7</td>\n",
              "      <td>6</td>\n",
              "      <td>145.0</td>\n",
              "      <td>175</td>\n",
              "      <td>3.62</td>\n",
              "      <td>2.770</td>\n",
              "      <td>15.5</td>\n",
              "      <td>0</td>\n",
              "      <td>1</td>\n",
              "      <td>5</td>\n",
              "      <td>6</td>\n",
              "    </tr>\n",
              "    <tr>\n",
              "      <th>30</th>\n",
              "      <td>Maserati Bora</td>\n",
              "      <td>15.0</td>\n",
              "      <td>8</td>\n",
              "      <td>301.0</td>\n",
              "      <td>335</td>\n",
              "      <td>3.54</td>\n",
              "      <td>3.570</td>\n",
              "      <td>14.6</td>\n",
              "      <td>0</td>\n",
              "      <td>1</td>\n",
              "      <td>5</td>\n",
              "      <td>8</td>\n",
              "    </tr>\n",
              "    <tr>\n",
              "      <th>31</th>\n",
              "      <td>Volvo 142E</td>\n",
              "      <td>21.4</td>\n",
              "      <td>4</td>\n",
              "      <td>121.0</td>\n",
              "      <td>109</td>\n",
              "      <td>4.11</td>\n",
              "      <td>2.780</td>\n",
              "      <td>18.6</td>\n",
              "      <td>1</td>\n",
              "      <td>1</td>\n",
              "      <td>4</td>\n",
              "      <td>2</td>\n",
              "    </tr>\n",
              "  </tbody>\n",
              "</table>\n",
              "</div>"
            ],
            "text/plain": [
              "               car   mpg  cyl   disp   hp  ...  qsec  vs  am  gear  carb\n",
              "27    Lotus Europa  30.4    4   95.1  113  ...  16.9   1   1     5     2\n",
              "28  Ford Pantera L  15.8    8  351.0  264  ...  14.5   0   1     5     4\n",
              "29    Ferrari Dino  19.7    6  145.0  175  ...  15.5   0   1     5     6\n",
              "30   Maserati Bora  15.0    8  301.0  335  ...  14.6   0   1     5     8\n",
              "31      Volvo 142E  21.4    4  121.0  109  ...  18.6   1   1     4     2\n",
              "\n",
              "[5 rows x 12 columns]"
            ]
          },
          "metadata": {
            "tags": []
          },
          "execution_count": 8
        }
      ]
    },
    {
      "cell_type": "markdown",
      "metadata": {
        "id": "3tXQyZ41mGhJ"
      },
      "source": [
        "### Question 1. Find the car with the best mpg, worst mpg."
      ]
    },
    {
      "cell_type": "code",
      "metadata": {
        "colab": {
          "base_uri": "https://localhost:8080/"
        },
        "id": "VZbrEtINmZ9A",
        "outputId": "adb7b526-8938-4c5b-c107-8de493122380"
      },
      "source": [
        "#Best MPG\n",
        "max_mpg = max(df['mpg'])\n",
        "for car in df.loc[df['mpg'] == max_mpg]['car']:\n",
        "  print(car, max_mpg)"
      ],
      "execution_count": 9,
      "outputs": [
        {
          "output_type": "stream",
          "text": [
            "Toyota Corolla 33.9\n"
          ],
          "name": "stdout"
        }
      ]
    },
    {
      "cell_type": "code",
      "metadata": {
        "id": "bDJu5HsJqDVa"
      },
      "source": [
        "#Alternative method to the above code\n",
        "#print(df.loc[df['mpg'] == max_mpg]['car'].to_string(index=False), max_mpg)"
      ],
      "execution_count": 10,
      "outputs": []
    },
    {
      "cell_type": "code",
      "metadata": {
        "colab": {
          "base_uri": "https://localhost:8080/"
        },
        "id": "rNfn6dsAlqHY",
        "outputId": "ea5a1dd9-7e30-42ea-a8d5-c113e1dd6383"
      },
      "source": [
        "#Worst MPG\n",
        "min_mpg = min(df['mpg'])\n",
        "for car in df.loc[df['mpg'] == min_mpg]['car']:\n",
        "  print(car, min_mpg)"
      ],
      "execution_count": 11,
      "outputs": [
        {
          "output_type": "stream",
          "text": [
            "Cadillac Fleetwood 10.4\n",
            "Lincoln Continental 10.4\n"
          ],
          "name": "stdout"
        }
      ]
    },
    {
      "cell_type": "markdown",
      "metadata": {
        "id": "YFCiIqJQpyUq"
      },
      "source": [
        "### Question 2. Find the car with the worst horsepower, best qsec. "
      ]
    },
    {
      "cell_type": "code",
      "metadata": {
        "colab": {
          "base_uri": "https://localhost:8080/"
        },
        "id": "OnuZFRWnpqk3",
        "outputId": "ab43319e-2f8a-4415-8f26-793241f011d9"
      },
      "source": [
        "#Worst horsepower\n",
        "worst_hp = min(df['hp'])\n",
        "for car in df.loc[df['hp'] == worst_hp]['car']:\n",
        "  print(car, worst_hp)"
      ],
      "execution_count": 12,
      "outputs": [
        {
          "output_type": "stream",
          "text": [
            "Honda Civic 52\n"
          ],
          "name": "stdout"
        }
      ]
    },
    {
      "cell_type": "code",
      "metadata": {
        "colab": {
          "base_uri": "https://localhost:8080/"
        },
        "id": "lBm2RipMrnPW",
        "outputId": "5ab8e5ce-e995-4325-ae3a-d64b0478789e"
      },
      "source": [
        "#Best QSEC\n",
        "best_qsec = max(df['qsec'])\n",
        "for car in df.loc[df['qsec'] == best_qsec]['car']:\n",
        "  print(car, best_qsec)"
      ],
      "execution_count": 13,
      "outputs": [
        {
          "output_type": "stream",
          "text": [
            "Merc 230 22.9\n"
          ],
          "name": "stdout"
        }
      ]
    },
    {
      "cell_type": "markdown",
      "metadata": {
        "id": "GoHlmnTrr1vI"
      },
      "source": [
        "### Question 3. Find 5 number summary and draw the boxplot of displacement"
      ]
    },
    {
      "cell_type": "code",
      "metadata": {
        "id": "Q4tyKk-Mr59w"
      },
      "source": [
        "#Finding the 5 number summary for disp\n",
        "quartiles = percentile(df['disp'], [0, 25, 50, 75, 100])"
      ],
      "execution_count": 14,
      "outputs": []
    },
    {
      "cell_type": "code",
      "metadata": {
        "colab": {
          "base_uri": "https://localhost:8080/"
        },
        "id": "-vo0hBDTspBp",
        "outputId": "090b6f4c-7374-4c58-d9a2-302ad31680d9"
      },
      "source": [
        "for i in range(len(quartiles)):\n",
        "  print(25*i, quartiles[i])"
      ],
      "execution_count": 15,
      "outputs": [
        {
          "output_type": "stream",
          "text": [
            "0 71.1\n",
            "25 120.825\n",
            "50 196.3\n",
            "75 326.0\n",
            "100 472.0\n"
          ],
          "name": "stdout"
        }
      ]
    },
    {
      "cell_type": "code",
      "metadata": {
        "colab": {
          "base_uri": "https://localhost:8080/",
          "height": 281
        },
        "id": "AaQhc0_6tODi",
        "outputId": "8aa7583e-db0b-443e-b7b0-8666dddfefbd"
      },
      "source": [
        "plt.boxplot(quartiles)\n",
        "plt.title('Boxplot of Displacement') \n",
        "plt.show()"
      ],
      "execution_count": 16,
      "outputs": [
        {
          "output_type": "display_data",
          "data": {
            "image/png": "[encoded data removed]",
            "text/plain": [
              "<Figure size 432x288 with 1 Axes>"
            ]
          },
          "metadata": {
            "tags": [],
            "needs_background": "light"
          }
        }
      ]
    },
    {
      "cell_type": "markdown",
      "metadata": {
        "id": "aiZ6BxWmuglv"
      },
      "source": [
        "### Question 4. Draw a histogram for MPG and comment on the distribution. "
      ]
    },
    {
      "cell_type": "code",
      "metadata": {
        "colab": {
          "base_uri": "https://localhost:8080/",
          "height": 295
        },
        "id": "wcl0ptzWuNph",
        "outputId": "22f7c621-d927-40dc-e10b-1f6575e8b70a"
      },
      "source": [
        "plt.hist(df['mpg'])\n",
        "\n",
        "plt.xlabel('MPG') \n",
        "plt.ylabel('No. of Cars') \n",
        "plt.title('Histogram for MPG') \n",
        "plt.show()"
      ],
      "execution_count": 17,
      "outputs": [
        {
          "output_type": "display_data",
          "data": {
            "image/png": "[encoded data removed]",
            "text/plain": [
              "<Figure size 432x288 with 1 Axes>"
            ]
          },
          "metadata": {
            "tags": [],
            "needs_background": "light"
          }
        }
      ]
    },
    {
      "cell_type": "markdown",
      "metadata": {
        "id": "YLJZqVC4zZVa"
      },
      "source": [
        "**Comments:**\n",
        "The above histogram displays the frequency of a particular MPG value in the MTCars Dataset. In other words it plots the number of cars corresponding to a particular MPG value v/s the MPG value. \n",
        "\n",
        "With the distrubution that this histogram provides, we can visualize which MPG values are most common in the dataset and which ones are least common. Here, we see that most common range of MPG is 15-20. "
      ]
    },
    {
      "cell_type": "markdown",
      "metadata": {
        "id": "PSHh6RDnvILA"
      },
      "source": [
        "### Question 5. What is average MPG for manual vs. automatic cars?"
      ]
    },
    {
      "cell_type": "code",
      "metadata": {
        "colab": {
          "base_uri": "https://localhost:8080/"
        },
        "id": "y2hJ-AGzvMtr",
        "outputId": "66783013-5130-43f3-bfb0-fd96c2b2ca4a"
      },
      "source": [
        "avg_mpg_automatic = df[df['am'] == 0]['mpg'].mean()\n",
        "print(avg_mpg_automatic)"
      ],
      "execution_count": 18,
      "outputs": [
        {
          "output_type": "stream",
          "text": [
            "17.147368421052633\n"
          ],
          "name": "stdout"
        }
      ]
    },
    {
      "cell_type": "code",
      "metadata": {
        "colab": {
          "base_uri": "https://localhost:8080/"
        },
        "id": "Hde9thkpwgl_",
        "outputId": "118952d8-f134-4d6c-ff91-431eedfe1b56"
      },
      "source": [
        "avg_mpg_manual = df[df['am'] == 1]['mpg'].mean()\n",
        "print(avg_mpg_manual)"
      ],
      "execution_count": 19,
      "outputs": [
        {
          "output_type": "stream",
          "text": [
            "24.39230769230769\n"
          ],
          "name": "stdout"
        }
      ]
    },
    {
      "cell_type": "markdown",
      "metadata": {
        "id": "fiwEcCAswq5y"
      },
      "source": [
        "### Question 6. Draw a side by side box plot of fuel efficiency (MPG) for transmission (manual vs. automatic) cars. Analyze and write about fuel efficiency in each group (manual vs. automatic). "
      ]
    },
    {
      "cell_type": "code",
      "metadata": {
        "id": "edmqTaG3wvZk"
      },
      "source": [
        "#Based on the assumption that am =0 corresponds to automatic cars\n",
        "mpg_automatic_quartiles = percentile(df[df['am']==0]['mpg'], [0, 25, 50, 75, 100])"
      ],
      "execution_count": 20,
      "outputs": []
    },
    {
      "cell_type": "code",
      "metadata": {
        "id": "4g65AxPDxNos"
      },
      "source": [
        "mpg_manual_quartiles = percentile(df[df['am']==1]['mpg'], [0, 25, 50, 75, 100])"
      ],
      "execution_count": 21,
      "outputs": []
    },
    {
      "cell_type": "code",
      "metadata": {
        "colab": {
          "base_uri": "https://localhost:8080/",
          "height": 271
        },
        "id": "r3HDhSZBxQnX",
        "outputId": "71fc6bec-cf0c-4bff-8609-623d0d8532c8"
      },
      "source": [
        "figure, axes = plt.subplots(nrows=2, ncols=2)\n",
        "figure.tight_layout(pad=3.0)\n",
        "\n",
        "mpg_automatic_plt = plt.subplot(1,2,1)\n",
        "mpg_automatic_plt.set_title(\"Automatic Cars\")\n",
        "plt.boxplot(mpg_automatic_quartiles)\n",
        "plt.ylabel(\"MPG\")\n",
        "\n",
        "mpg_manual_plt = plt.subplot(1,2,2)\n",
        "mpg_manual_plt.set_title(\"Manual Cars\")\n",
        "plt.boxplot(mpg_manual_quartiles)\n",
        "plt.ylabel(\"MPG\")\n",
        "\n",
        "plt.show()"
      ],
      "execution_count": 22,
      "outputs": [
        {
          "output_type": "display_data",
          "data": {
            "image/png": "[encoded data removed]",
            "text/plain": [
              "<Figure size 432x288 with 2 Axes>"
            ]
          },
          "metadata": {
            "tags": [],
            "needs_background": "light"
          }
        }
      ]
    },
    {
      "cell_type": "markdown",
      "metadata": {
        "id": "Rbmfrt5m4T1N"
      },
      "source": [
        "**Analysis of Fuel Efficiency in each group (Automatic and Manual)**\n",
        "\n",
        "With respect to **Automatic cars**, the data seems to be slightly **negatively skewed** and for **Manual cars**, the data seems to be **positively skewed**. \n",
        "\n",
        "In the case of **negatively** skewed data, the *mean is less than the median* and in the case of **positively** skewed data, the *mean is greater than median*. \n",
        "\n",
        "Overall, considering the quartiles and the skewness of the data: The range of values of MPGs for Manual cars is higher than for Automatic cars. This implies that overall Manual cars seem to be more fuel efficient than Automatic cars. \n"
      ]
    },
    {
      "cell_type": "markdown",
      "metadata": {
        "id": "NtnSVHRbw-ML"
      },
      "source": [
        "### Question 7. What is the correlation between the weight of the car and MPG? Draw a scatter plot. What is the relationship between the two attributes?"
      ]
    },
    {
      "cell_type": "code",
      "metadata": {
        "id": "RREmEMUhyoYN"
      },
      "source": [
        "#Creating a smaller dataframe to find correlation\n",
        "df_wt_mpg = pd.DataFrame(df, columns = ['wt', 'mpg'])"
      ],
      "execution_count": 23,
      "outputs": []
    },
    {
      "cell_type": "code",
      "metadata": {
        "colab": {
          "base_uri": "https://localhost:8080/",
          "height": 106
        },
        "id": "WUJHg7frzW_4",
        "outputId": "446c6999-365c-4933-db16-fd76cc61c8d7"
      },
      "source": [
        "df_wt_mpg.corr()"
      ],
      "execution_count": 24,
      "outputs": [
        {
          "output_type": "execute_result",
          "data": {
            "text/html": [
              "<div>\n",
              "<style scoped>\n",
              "    .dataframe tbody tr th:only-of-type {\n",
              "        vertical-align: middle;\n",
              "    }\n",
              "\n",
              "    .dataframe tbody tr th {\n",
              "        vertical-align: top;\n",
              "    }\n",
              "\n",
              "    .dataframe thead th {\n",
              "        text-align: right;\n",
              "    }\n",
              "</style>\n",
              "<table border=\"1\" class=\"dataframe\">\n",
              "  <thead>\n",
              "    <tr style=\"text-align: right;\">\n",
              "      <th></th>\n",
              "      <th>wt</th>\n",
              "      <th>mpg</th>\n",
              "    </tr>\n",
              "  </thead>\n",
              "  <tbody>\n",
              "    <tr>\n",
              "      <th>wt</th>\n",
              "      <td>1.000000</td>\n",
              "      <td>-0.867659</td>\n",
              "    </tr>\n",
              "    <tr>\n",
              "      <th>mpg</th>\n",
              "      <td>-0.867659</td>\n",
              "      <td>1.000000</td>\n",
              "    </tr>\n",
              "  </tbody>\n",
              "</table>\n",
              "</div>"
            ],
            "text/plain": [
              "           wt       mpg\n",
              "wt   1.000000 -0.867659\n",
              "mpg -0.867659  1.000000"
            ]
          },
          "metadata": {
            "tags": []
          },
          "execution_count": 24
        }
      ]
    },
    {
      "cell_type": "code",
      "metadata": {
        "colab": {
          "base_uri": "https://localhost:8080/",
          "height": 295
        },
        "id": "1NAud4O_zkFr",
        "outputId": "9b764eaa-f15e-4bf6-b11f-c12903247f6e"
      },
      "source": [
        "plt.scatter(df['wt'],df['mpg'])\n",
        "plt.xlabel('Weight') \n",
        "plt.ylabel('MPG') \n",
        "plt.title('Scatter Plot \"Weight v/s MPG\"') \n",
        "plt.show()"
      ],
      "execution_count": 25,
      "outputs": [
        {
          "output_type": "display_data",
          "data": {
            "image/png": "[encoded data removed]",
            "text/plain": [
              "<Figure size 432x288 with 1 Axes>"
            ]
          },
          "metadata": {
            "tags": [],
            "needs_background": "light"
          }
        }
      ]
    },
    {
      "cell_type": "markdown",
      "metadata": {
        "id": "AA8rqMkR4ST6"
      },
      "source": [
        "**Relationship between MPG and Weight**:\n",
        "The correlation coefficient generates values between -1.0 and 1.0 and these values determine how close the given points lie to a straight line. \n",
        "The correlation coefficient value for MPG and Weight is a \"-0.867\" which implies a strong negative correlation. This means that when one of the variables, say Weight increases, the other variable, MPG decreases. However, even though Weight and MPG seem to have a strong negative correlation, it does not necessarily imply that the behaviour one has a direct causal effect on the other. \n",
        "\n",
        "The results from analysis of the correlation coefficient are in agreement with those from the scatterplot as it shows that generally, for a higher MPG, the weight of the vehicle is less and for a lower MPG, the weight of the vehicle is more. "
      ]
    },
    {
      "cell_type": "markdown",
      "metadata": {
        "id": "3xTfXB8gzihx"
      },
      "source": [
        "### Question 8. Draw a side by side box plot of fuel efficiency for number of gears. Analyze and write about fuel efficiency and number of gears. "
      ]
    },
    {
      "cell_type": "code",
      "metadata": {
        "id": "zhVh5eTq0EA1"
      },
      "source": [
        "mpg_3gear_quartiles = percentile(df[df['gear']==3]['mpg'], [0, 25, 50, 75, 100])"
      ],
      "execution_count": 26,
      "outputs": []
    },
    {
      "cell_type": "code",
      "metadata": {
        "id": "B9OhJ9fg0uuF"
      },
      "source": [
        "mpg_4gear_quartiles = percentile(df[df['gear']==4]['mpg'], [0, 25, 50, 75, 100])"
      ],
      "execution_count": 27,
      "outputs": []
    },
    {
      "cell_type": "code",
      "metadata": {
        "id": "kVQp5HT80wKX"
      },
      "source": [
        "mpg_5gear_quartiles = percentile(df[df['gear']==5]['mpg'], [0, 25, 50, 75, 100])"
      ],
      "execution_count": 28,
      "outputs": []
    },
    {
      "cell_type": "code",
      "metadata": {
        "colab": {
          "base_uri": "https://localhost:8080/",
          "height": 291
        },
        "id": "1RRThgt_0zkH",
        "outputId": "88ecc96b-e866-4896-92d1-e30efe3f0df4"
      },
      "source": [
        "figure, axes = plt.subplots(nrows=1, ncols=3)\n",
        "figure.tight_layout(pad=2.0)\n",
        "\n",
        "mpg_3gear_plt = plt.subplot(1,3,1)\n",
        "mpg_3gear_plt.set_title('MPG - 3 Gear')\n",
        "plt.boxplot(mpg_3gear_quartiles)\n",
        "\n",
        "mpg_4gear_plt = plt.subplot(1,3,2)\n",
        "mpg_4gear_plt.set_title('MPG - 4 Gear')\n",
        "plt.boxplot(mpg_4gear_quartiles)\n",
        "\n",
        "mpg_5gear_plt = plt.subplot(1,3,3)\n",
        "mpg_5gear_plt.set_title('MPG - 5 Gear')\n",
        "plt.boxplot(mpg_5gear_quartiles)\n",
        "\n",
        "plt.show()"
      ],
      "execution_count": 29,
      "outputs": [
        {
          "output_type": "display_data",
          "data": {
            "image/png": "[encoded data removed]",
            "text/plain": [
              "<Figure size 432x288 with 3 Axes>"
            ]
          },
          "metadata": {
            "tags": [],
            "needs_background": "light"
          }
        }
      ]
    },
    {
      "cell_type": "markdown",
      "metadata": {
        "id": "oc_yxBMH-xiI"
      },
      "source": [
        "**Analysis on fuel efficiency and gears**\n",
        "\n",
        "For all the gears, the MPG data is positively skewed which implies that for all of them the mean value is greater than the median value. Based on the skewness and the visible ranges of all, 4 gear cars seem to be the most fuel efficient.\n"
      ]
    },
    {
      "cell_type": "markdown",
      "metadata": {
        "id": "WC78Qiv71JZT"
      },
      "source": [
        "### Question 9. Create a crosstab displaying horse power and number of cylinders and explain the relationship between the two attributes."
      ]
    },
    {
      "cell_type": "code",
      "metadata": {
        "colab": {
          "base_uri": "https://localhost:8080/",
          "height": 166
        },
        "id": "D8nuWrMB1NeU",
        "outputId": "9d21ef9c-9e35-4477-f05d-9678113874ff"
      },
      "source": [
        "pd.crosstab(df['cyl'], df['hp'], rownames=['cyl'], colnames=['hp'])"
      ],
      "execution_count": 30,
      "outputs": [
        {
          "output_type": "execute_result",
          "data": {
            "text/html": [
              "<div>\n",
              "<style scoped>\n",
              "    .dataframe tbody tr th:only-of-type {\n",
              "        vertical-align: middle;\n",
              "    }\n",
              "\n",
              "    .dataframe tbody tr th {\n",
              "        vertical-align: top;\n",
              "    }\n",
              "\n",
              "    .dataframe thead th {\n",
              "        text-align: right;\n",
              "    }\n",
              "</style>\n",
              "<table border=\"1\" class=\"dataframe\">\n",
              "  <thead>\n",
              "    <tr style=\"text-align: right;\">\n",
              "      <th>hp</th>\n",
              "      <th>52</th>\n",
              "      <th>62</th>\n",
              "      <th>65</th>\n",
              "      <th>66</th>\n",
              "      <th>91</th>\n",
              "      <th>93</th>\n",
              "      <th>95</th>\n",
              "      <th>97</th>\n",
              "      <th>105</th>\n",
              "      <th>109</th>\n",
              "      <th>110</th>\n",
              "      <th>113</th>\n",
              "      <th>123</th>\n",
              "      <th>150</th>\n",
              "      <th>175</th>\n",
              "      <th>180</th>\n",
              "      <th>205</th>\n",
              "      <th>215</th>\n",
              "      <th>230</th>\n",
              "      <th>245</th>\n",
              "      <th>264</th>\n",
              "      <th>335</th>\n",
              "    </tr>\n",
              "    <tr>\n",
              "      <th>cyl</th>\n",
              "      <th></th>\n",
              "      <th></th>\n",
              "      <th></th>\n",
              "      <th></th>\n",
              "      <th></th>\n",
              "      <th></th>\n",
              "      <th></th>\n",
              "      <th></th>\n",
              "      <th></th>\n",
              "      <th></th>\n",
              "      <th></th>\n",
              "      <th></th>\n",
              "      <th></th>\n",
              "      <th></th>\n",
              "      <th></th>\n",
              "      <th></th>\n",
              "      <th></th>\n",
              "      <th></th>\n",
              "      <th></th>\n",
              "      <th></th>\n",
              "      <th></th>\n",
              "      <th></th>\n",
              "    </tr>\n",
              "  </thead>\n",
              "  <tbody>\n",
              "    <tr>\n",
              "      <th>4</th>\n",
              "      <td>1</td>\n",
              "      <td>1</td>\n",
              "      <td>1</td>\n",
              "      <td>2</td>\n",
              "      <td>1</td>\n",
              "      <td>1</td>\n",
              "      <td>1</td>\n",
              "      <td>1</td>\n",
              "      <td>0</td>\n",
              "      <td>1</td>\n",
              "      <td>0</td>\n",
              "      <td>1</td>\n",
              "      <td>0</td>\n",
              "      <td>0</td>\n",
              "      <td>0</td>\n",
              "      <td>0</td>\n",
              "      <td>0</td>\n",
              "      <td>0</td>\n",
              "      <td>0</td>\n",
              "      <td>0</td>\n",
              "      <td>0</td>\n",
              "      <td>0</td>\n",
              "    </tr>\n",
              "    <tr>\n",
              "      <th>6</th>\n",
              "      <td>0</td>\n",
              "      <td>0</td>\n",
              "      <td>0</td>\n",
              "      <td>0</td>\n",
              "      <td>0</td>\n",
              "      <td>0</td>\n",
              "      <td>0</td>\n",
              "      <td>0</td>\n",
              "      <td>1</td>\n",
              "      <td>0</td>\n",
              "      <td>3</td>\n",
              "      <td>0</td>\n",
              "      <td>2</td>\n",
              "      <td>0</td>\n",
              "      <td>1</td>\n",
              "      <td>0</td>\n",
              "      <td>0</td>\n",
              "      <td>0</td>\n",
              "      <td>0</td>\n",
              "      <td>0</td>\n",
              "      <td>0</td>\n",
              "      <td>0</td>\n",
              "    </tr>\n",
              "    <tr>\n",
              "      <th>8</th>\n",
              "      <td>0</td>\n",
              "      <td>0</td>\n",
              "      <td>0</td>\n",
              "      <td>0</td>\n",
              "      <td>0</td>\n",
              "      <td>0</td>\n",
              "      <td>0</td>\n",
              "      <td>0</td>\n",
              "      <td>0</td>\n",
              "      <td>0</td>\n",
              "      <td>0</td>\n",
              "      <td>0</td>\n",
              "      <td>0</td>\n",
              "      <td>2</td>\n",
              "      <td>2</td>\n",
              "      <td>3</td>\n",
              "      <td>1</td>\n",
              "      <td>1</td>\n",
              "      <td>1</td>\n",
              "      <td>2</td>\n",
              "      <td>1</td>\n",
              "      <td>1</td>\n",
              "    </tr>\n",
              "  </tbody>\n",
              "</table>\n",
              "</div>"
            ],
            "text/plain": [
              "hp   52   62   65   66   91   93   95   ...  180  205  215  230  245  264  335\n",
              "cyl                                     ...                                   \n",
              "4      1    1    1    2    1    1    1  ...    0    0    0    0    0    0    0\n",
              "6      0    0    0    0    0    0    0  ...    0    0    0    0    0    0    0\n",
              "8      0    0    0    0    0    0    0  ...    3    1    1    1    2    1    1\n",
              "\n",
              "[3 rows x 22 columns]"
            ]
          },
          "metadata": {
            "tags": []
          },
          "execution_count": 30
        }
      ]
    },
    {
      "cell_type": "markdown",
      "metadata": {
        "id": "4ekE1yn_4Qv0"
      },
      "source": [
        "**Analysis of relationship between horsepower and number of cylinders:**\n",
        "\n",
        "Given that a car has \n",
        "1. 4 cylinders, the horsepower seems to range 52-113, \n",
        "2. 5 cylinders, the horsepower seems to range 105-175, \n",
        "3. 6 cylinders, the horsepower seems to range 150-335.\n",
        "\n",
        "Basically the more the number of cylinders, the higher the horsepower can expected to be. This is not a clear linear relationship but does seem to positive correlation."
      ]
    },
    {
      "cell_type": "markdown",
      "metadata": {
        "id": "lP2xe9Tl18Kg"
      },
      "source": [
        "### Question 10. Draw a scatter plot to understand the relationship between displacement and gross horse power. Use the correlation coefficient and infer the relationship."
      ]
    },
    {
      "cell_type": "code",
      "metadata": {
        "colab": {
          "base_uri": "https://localhost:8080/",
          "height": 295
        },
        "id": "qRYakLNs2EYc",
        "outputId": "019a0821-81fd-4a36-eb8e-41e36d8c78c9"
      },
      "source": [
        "plt.scatter(df['disp'], df['hp'])\n",
        "plt.xlabel('Displacement') \n",
        "plt.ylabel('Horsepower') \n",
        "plt.title('Scatter Plot \"Displacement v/s Horsepower\"') \n",
        "plt.show()"
      ],
      "execution_count": 31,
      "outputs": [
        {
          "output_type": "display_data",
          "data": {
            "image/png": "[encoded data removed]",
            "text/plain": [
              "<Figure size 432x288 with 1 Axes>"
            ]
          },
          "metadata": {
            "tags": [],
            "needs_background": "light"
          }
        }
      ]
    },
    {
      "cell_type": "code",
      "metadata": {
        "id": "RlAzqyUG2-TV"
      },
      "source": [
        "df_disp_hp = pd.DataFrame(df, columns = ['disp', 'hp'])"
      ],
      "execution_count": 32,
      "outputs": []
    },
    {
      "cell_type": "code",
      "metadata": {
        "colab": {
          "base_uri": "https://localhost:8080/",
          "height": 106
        },
        "id": "GbBTZSnh3HqS",
        "outputId": "307e85ba-83db-4c3f-8d01-4bdec51d62f9"
      },
      "source": [
        "df_disp_hp.corr()"
      ],
      "execution_count": 33,
      "outputs": [
        {
          "output_type": "execute_result",
          "data": {
            "text/html": [
              "<div>\n",
              "<style scoped>\n",
              "    .dataframe tbody tr th:only-of-type {\n",
              "        vertical-align: middle;\n",
              "    }\n",
              "\n",
              "    .dataframe tbody tr th {\n",
              "        vertical-align: top;\n",
              "    }\n",
              "\n",
              "    .dataframe thead th {\n",
              "        text-align: right;\n",
              "    }\n",
              "</style>\n",
              "<table border=\"1\" class=\"dataframe\">\n",
              "  <thead>\n",
              "    <tr style=\"text-align: right;\">\n",
              "      <th></th>\n",
              "      <th>disp</th>\n",
              "      <th>hp</th>\n",
              "    </tr>\n",
              "  </thead>\n",
              "  <tbody>\n",
              "    <tr>\n",
              "      <th>disp</th>\n",
              "      <td>1.000000</td>\n",
              "      <td>0.790949</td>\n",
              "    </tr>\n",
              "    <tr>\n",
              "      <th>hp</th>\n",
              "      <td>0.790949</td>\n",
              "      <td>1.000000</td>\n",
              "    </tr>\n",
              "  </tbody>\n",
              "</table>\n",
              "</div>"
            ],
            "text/plain": [
              "          disp        hp\n",
              "disp  1.000000  0.790949\n",
              "hp    0.790949  1.000000"
            ]
          },
          "metadata": {
            "tags": []
          },
          "execution_count": 33
        }
      ]
    },
    {
      "cell_type": "markdown",
      "metadata": {
        "id": "1JBhTo_IYxfL"
      },
      "source": [
        "**Inference**\n",
        "\n",
        "The Displacement and Horsepower variables show a high positive correlation of \"0.79\" which implies that the two variables increase or decrease together, in other words they move in \"tandem\"\n",
        "\n",
        "The scatterplot is in agreement with this conclusion as it shows that for a lower displacement, the horsepower is lower and for a higher displacement, the horsepower is higher."
      ]
    }
  ]
}